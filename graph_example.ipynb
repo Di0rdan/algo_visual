{
 "cells": [
  {
   "cell_type": "code",
   "execution_count": 1,
   "metadata": {},
   "outputs": [],
   "source": [
    "## Пример иннициализации графа\n",
    "\n",
    "# класс вершины\n",
    "class Node:\n",
    "    \n",
    "    def __init__(self):\n",
    "        self.neighs = [] # список, хранящий соседей вершины\n",
    "\n",
    "node_count = 10\n",
    "# список ребер по номерам вершин\n",
    "edges = [\n",
    "    (0, 1),\n",
    "    (1, 2),\n",
    "    (2, 3),\n",
    "    (3, 1),\n",
    "    (3, 4),\n",
    "    (3, 5),\n",
    "    (3, 6),\n",
    "    (6, 7),\n",
    "    (6, 8),\n",
    "    (8, 9),\n",
    "    (7, 9)\n",
    "]\n",
    "\n",
    "# список, хранящий вершины\n",
    "nodes = [Node() for _ in range(node_count)]\n",
    "\n",
    "# добавляем вершинам соседей\n",
    "for v1, v2 in edges:\n",
    "    nodes[v1].neighs.append(nodes[v2])\n",
    "\n",
    "    nodes[v2].neighs.append(nodes[v1])"
   ]
  },
  {
   "cell_type": "code",
   "execution_count": 3,
   "metadata": {},
   "outputs": [
    {
     "name": "stdout",
     "output_type": "stream",
     "text": [
      "Local cdn resources have problems on chrome/safari when used in jupyter-notebook. \n"
     ]
    }
   ],
   "source": [
    "# визуализация вершин графа\n",
    "\n",
    "from core import save_network_state\n",
    "\n",
    "# создаем визуализацию и записываем в файл graph.html\n",
    "save_network_state(nodes, 'graph.html')"
   ]
  },
  {
   "cell_type": "code",
   "execution_count": 4,
   "metadata": {},
   "outputs": [
    {
     "data": {
      "text/plain": [
       "{'node_count': 10,\n",
       " 'edges': [(0, 1),\n",
       "  (1, 2),\n",
       "  (2, 3),\n",
       "  (3, 1),\n",
       "  (3, 4),\n",
       "  (3, 5),\n",
       "  (3, 6),\n",
       "  (6, 7),\n",
       "  (6, 8),\n",
       "  (8, 9),\n",
       "  (7, 9)],\n",
       " 'nodes': [<__main__.Node at 0x111184f10>,\n",
       "  <__main__.Node at 0x111184a90>,\n",
       "  <__main__.Node at 0x111184af0>,\n",
       "  <__main__.Node at 0x111184b50>,\n",
       "  <__main__.Node at 0x111184bb0>,\n",
       "  <__main__.Node at 0x111184c10>,\n",
       "  <__main__.Node at 0x111184c70>,\n",
       "  <__main__.Node at 0x111184cd0>,\n",
       "  <__main__.Node at 0x111185030>,\n",
       "  <__main__.Node at 0x1111872e0>],\n",
       " 'v1': 7,\n",
       " 'v2': 9}"
      ]
     },
     "execution_count": 4,
     "metadata": {},
     "output_type": "execute_result"
    }
   ],
   "source": [
    "# объекты, потенциально требующие визуализации\n",
    "\n",
    "from core import get_global\n",
    "get_global()"
   ]
  }
 ],
 "metadata": {
  "kernelspec": {
   "display_name": "Python 3 (ipykernel)",
   "language": "python",
   "name": "python3"
  },
  "language_info": {
   "codemirror_mode": {
    "name": "ipython",
    "version": 3
   },
   "file_extension": ".py",
   "mimetype": "text/x-python",
   "name": "python",
   "nbconvert_exporter": "python",
   "pygments_lexer": "ipython3",
   "version": "3.10.7"
  }
 },
 "nbformat": 4,
 "nbformat_minor": 2
}
